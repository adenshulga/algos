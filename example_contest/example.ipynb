{
 "cells": [
  {
   "cell_type": "code",
   "execution_count": null,
   "metadata": {},
   "outputs": [],
   "source": []
  },
  {
   "cell_type": "code",
   "execution_count": null,
   "metadata": {},
   "outputs": [],
   "source": []
  },
  {
   "cell_type": "markdown",
   "metadata": {},
   "source": [
    "## 1, разложение на простые множители"
   ]
  },
  {
   "cell_type": "code",
   "execution_count": 1,
   "metadata": {},
   "outputs": [],
   "source": [
    "numb = int(input())"
   ]
  },
  {
   "cell_type": "markdown",
   "metadata": {},
   "source": [
    "Pseudocode:\n",
    "generate numbers up to sqrt of the proposed number\n"
   ]
  },
  {
   "cell_type": "code",
   "execution_count": 2,
   "metadata": {},
   "outputs": [],
   "source": [
    "from math import sqrt"
   ]
  },
  {
   "cell_type": "code",
   "execution_count": 84,
   "metadata": {},
   "outputs": [],
   "source": [
    "def full_factorize(num) :\n",
    "\texistent_primes = [2]\n",
    "\n",
    "\tdef factorize(num, existent_primes, prev_div = None):\n",
    "\t\tif num == 1:\n",
    "\t\t\texistent_primes.append(prev_div)\n",
    "\t\t\treturn\n",
    "\t\t\n",
    "\t\tdivider = num\n",
    "\t\tfor i in range(existent_primes[-1], num // 2 + 1):\n",
    "\t\t\t# print(num // 2 + 1)\n",
    "\t\t\t# print(i)\n",
    "\t\t\tif num % i == 0:\n",
    "\t\t\t\t# print('Entered if clause')\n",
    "\t\t\t\tdivider = i\n",
    "\t\t\t\texistent_primes.append(i)\n",
    "\t\t\t\tbreak\n",
    "\n",
    "\t\tfactorize(num // divider, existent_primes, prev_div = divider)\n",
    "\t\n",
    "\tfactorize(num, existent_primes)\n",
    "\n",
    "\treturn existent_primes[1:]"
   ]
  },
  {
   "cell_type": "code",
   "execution_count": 122,
   "metadata": {},
   "outputs": [
    {
     "data": {
      "text/plain": [
       "[17]"
      ]
     },
     "execution_count": 122,
     "metadata": {},
     "output_type": "execute_result"
    }
   ],
   "source": [
    "full_factorize(17)"
   ]
  },
  {
   "cell_type": "code",
   "execution_count": 3,
   "metadata": {},
   "outputs": [
    {
     "data": {
      "text/plain": [
       "[1, 2, 3, 4, 5, 6]"
      ]
     },
     "execution_count": 3,
     "metadata": {},
     "output_type": "execute_result"
    }
   ],
   "source": [
    "[1,2,3] + [4,5,6]"
   ]
  },
  {
   "cell_type": "code",
   "execution_count": 7,
   "metadata": {},
   "outputs": [
    {
     "name": "stdout",
     "output_type": "stream",
     "text": [
      "4\n",
      "3\n",
      "2\n",
      "1\n",
      "0\n"
     ]
    }
   ],
   "source": [
    "for i in reversed(range((10 - 1) // 2 + 1)):\n",
    "    print(i)"
   ]
  },
  {
   "cell_type": "code",
   "execution_count": 1,
   "metadata": {},
   "outputs": [],
   "source": [
    "a = [1,2,3,4]"
   ]
  },
  {
   "cell_type": "code",
   "execution_count": 12,
   "metadata": {},
   "outputs": [
    {
     "data": {
      "text/plain": [
       "'aa'"
      ]
     },
     "execution_count": 12,
     "metadata": {},
     "output_type": "execute_result"
    }
   ],
   "source": [
    "from collections import deque\n",
    "\n",
    "queue = deque()\n",
    "queue.append('aa')\n",
    "queue.popleft()"
   ]
  },
  {
   "cell_type": "code",
   "execution_count": 13,
   "metadata": {},
   "outputs": [],
   "source": [
    "if queue:\n",
    "    print('queue is not empty')"
   ]
  },
  {
   "cell_type": "markdown",
   "metadata": {},
   "source": [
    "## 2, максимальная сумма "
   ]
  },
  {
   "cell_type": "markdown",
   "metadata": {},
   "source": [
    "Даны два массива целых чисел одинаковой длины A[0..n-1] и B[0..n-1]. Необходимо найти первую пару индексов i0 и j0, i0 ≤ j0, такую что A[i0] + B[j0] = max {A[i] + B[j], где 0 <= i < n, 0 <= j < n, i <= j}. Время работы - O(n).\n",
    "n ≤ 100000.\n"
   ]
  },
  {
   "cell_type": "code",
   "execution_count": 92,
   "metadata": {},
   "outputs": [],
   "source": [
    "n = int(input())\n",
    "A = list(map(int, input().split()))\n",
    "B = list(map(int, input().split()))"
   ]
  },
  {
   "cell_type": "code",
   "execution_count": 93,
   "metadata": {},
   "outputs": [
    {
     "data": {
      "text/plain": [
       "[4, -8, 6, 0]"
      ]
     },
     "execution_count": 93,
     "metadata": {},
     "output_type": "execute_result"
    }
   ],
   "source": [
    "A"
   ]
  },
  {
   "cell_type": "code",
   "execution_count": 97,
   "metadata": {},
   "outputs": [],
   "source": [
    "def naive(A, B):\n",
    "    '''\n",
    "    О(N*(N+1)/2)\n",
    "    '''\n",
    "    n = len(A)\n",
    "    min_i = 0\n",
    "    min_j = 0\n",
    "    max_value = 0\n",
    "    operations = 0\n",
    "    for i in range(n):\n",
    "        for j in range(i, n):\n",
    "            operations +=1\n",
    "            if A[i] + B[j] > max_value:\n",
    "                min_i = i\n",
    "                min_j = j\n",
    "                max_value = A[i] + B[j]\n",
    "    print(operations)\n",
    "    return min_i, min_j\n"
   ]
  },
  {
   "cell_type": "code",
   "execution_count": 117,
   "metadata": {},
   "outputs": [],
   "source": [
    "def find_min_ind(A, B):\n",
    "    '''\n",
    "    '''\n",
    "    n = len(A)\n",
    "    max_sum = 0\n",
    "    prev_max_j = B[-1]\n",
    "    min_ind_A = n - 1\n",
    "    min_ind_B = n - 1\n",
    "\n",
    "    for i in range(n):\n",
    "        if B[-(i + 1)] > prev_max_j:\n",
    "            prev_max_j = B[-(i + 1)]\n",
    "            min_ind_B = n - i - 1\n",
    "        print(A[-(i+1)])\n",
    "        print(prev_max_j)\n",
    "        sum = A[-(i+1)] + prev_max_j\n",
    "        print(f'Sum: {sum}')\n",
    "        if sum >= max_sum:\n",
    "            max_sum = sum\n",
    "            min_ind_A = n - i - 1 \n",
    "        \n",
    "    return min_ind_A, min_ind_B\n"
   ]
  },
  {
   "cell_type": "code",
   "execution_count": 118,
   "metadata": {},
   "outputs": [
    {
     "name": "stdout",
     "output_type": "stream",
     "text": [
      "10\n"
     ]
    },
    {
     "data": {
      "text/plain": [
       "(0, 1)"
      ]
     },
     "execution_count": 118,
     "metadata": {},
     "output_type": "execute_result"
    }
   ],
   "source": [
    "naive(A, B)"
   ]
  },
  {
   "cell_type": "code",
   "execution_count": 119,
   "metadata": {},
   "outputs": [
    {
     "data": {
      "text/plain": [
       "[4, -8, 6, 0]"
      ]
     },
     "execution_count": 119,
     "metadata": {},
     "output_type": "execute_result"
    }
   ],
   "source": [
    "A"
   ]
  },
  {
   "cell_type": "code",
   "execution_count": 120,
   "metadata": {},
   "outputs": [
    {
     "data": {
      "text/plain": [
       "[-10, 3, 1, 1]"
      ]
     },
     "execution_count": 120,
     "metadata": {},
     "output_type": "execute_result"
    }
   ],
   "source": [
    "B"
   ]
  },
  {
   "cell_type": "code",
   "execution_count": 121,
   "metadata": {},
   "outputs": [
    {
     "name": "stdout",
     "output_type": "stream",
     "text": [
      "0\n",
      "1\n",
      "Sum: 1\n",
      "6\n",
      "1\n",
      "Sum: 7\n",
      "-8\n",
      "3\n",
      "Sum: -5\n",
      "4\n",
      "3\n",
      "Sum: 7\n"
     ]
    },
    {
     "data": {
      "text/plain": [
       "(0, 1)"
      ]
     },
     "execution_count": 121,
     "metadata": {},
     "output_type": "execute_result"
    }
   ],
   "source": [
    "find_min_ind(A, B)"
   ]
  },
  {
   "cell_type": "code",
   "execution_count": null,
   "metadata": {},
   "outputs": [],
   "source": []
  },
  {
   "cell_type": "markdown",
   "metadata": {},
   "source": [
    "## 3, Цикл минимальной длины"
   ]
  },
  {
   "cell_type": "markdown",
   "metadata": {},
   "source": [
    "Дан невзвешенный неориентированный граф. Найдите цикл минимальной длины.\n",
    "Ввод: v:кол-во вершин(макс. 50000), n:кол-во ребер(макс. 200000), n пар реберных вершин\n",
    "Вывод: одно целое число равное длине минимального цикла. Если цикла нет, то вывести -1."
   ]
  },
  {
   "cell_type": "code",
   "execution_count": 138,
   "metadata": {},
   "outputs": [],
   "source": [
    "inp = '''6\n",
    "6\n",
    "0 1\n",
    "0 2\n",
    "2 3\n",
    "2 4\n",
    "3 5\n",
    "4 5'''\n",
    "\n",
    "input_lines = iter(inp.split('\\n'))\n",
    "\n",
    "def simulate_input():\n",
    "    return next(input_lines)"
   ]
  },
  {
   "cell_type": "code",
   "execution_count": 139,
   "metadata": {},
   "outputs": [],
   "source": [
    "num_vert = int(simulate_input())\n",
    "num_edges = int(simulate_input())\n",
    "A = [[0 for _ in range(num_vert)] for _ in range(num_vert)]\n",
    "for i in range(num_edges):\n",
    "    k,l = list(map(int, simulate_input().split()))\n",
    "    A[k][l] = 1\n",
    "    A[l][k] = 1"
   ]
  },
  {
   "cell_type": "code",
   "execution_count": 140,
   "metadata": {},
   "outputs": [
    {
     "data": {
      "text/plain": [
       "[[0, 1, 1, 0, 0, 0],\n",
       " [1, 0, 0, 0, 0, 0],\n",
       " [1, 0, 0, 1, 1, 0],\n",
       " [0, 0, 1, 0, 0, 1],\n",
       " [0, 0, 1, 0, 0, 1],\n",
       " [0, 0, 0, 1, 1, 0]]"
      ]
     },
     "execution_count": 140,
     "metadata": {},
     "output_type": "execute_result"
    }
   ],
   "source": [
    "A"
   ]
  },
  {
   "cell_type": "code",
   "execution_count": null,
   "metadata": {},
   "outputs": [],
   "source": []
  },
  {
   "cell_type": "markdown",
   "metadata": {},
   "source": [
    "## 4, Первые k элементов длинной последовательности"
   ]
  },
  {
   "cell_type": "markdown",
   "metadata": {},
   "source": [
    "Дана очень длинная последовательность целых чисел длины n. Требуется вывести в отсортированном виде её первые k элементов. Последовательность может не помещаться в память. Время работы O(n * log(k)). Доп. память O(k). Использовать слияние."
   ]
  },
  {
   "cell_type": "code",
   "execution_count": 176,
   "metadata": {},
   "outputs": [],
   "source": [
    "inp = '''9 4\n",
    "3 7 4 5 6 1 15 4 2\n",
    "'''\n",
    "\n",
    "input_lines = iter(inp.split('\\n'))\n",
    "\n",
    "def simulate_input():\n",
    "    return next(input_lines)"
   ]
  },
  {
   "cell_type": "code",
   "execution_count": 177,
   "metadata": {},
   "outputs": [],
   "source": [
    "N, K = list(map(int, simulate_input().split()))\n",
    "arr = list(map(int, simulate_input().split()))"
   ]
  },
  {
   "cell_type": "code",
   "execution_count": 197,
   "metadata": {},
   "outputs": [],
   "source": [
    "k = [arr[0]]\n",
    "\n",
    "def form_new(k, new_element):\n",
    "    new_k = []\n",
    "    for ind, i in enumerate(k):\n",
    "        if i < new_element:\n",
    "            new_k.append(i)\n",
    "        else:\n",
    "            new_k.append(new_element)\n",
    "            new_k.extend(k[ind:])\n",
    "            return new_k\n",
    "    new_k.append(new_element)\n",
    "    return new_k\n",
    "\n",
    "def get_new(k, new_element):\n",
    "    new_k = []\n",
    "    for ind, i in enumerate(k):\n",
    "        if i <= new_element:\n",
    "            new_k.append(i)\n",
    "        else:\n",
    "            new_k.append(new_element)\n",
    "            new_k.extend(k[ind:-1])\n",
    "            return new_k\n",
    "    # new_k.append(new_element)\n",
    "    return new_k"
   ]
  },
  {
   "cell_type": "code",
   "execution_count": 198,
   "metadata": {},
   "outputs": [
    {
     "name": "stdout",
     "output_type": "stream",
     "text": [
      "7\n",
      "[3, 7]\n",
      "4\n",
      "[3, 4, 7]\n",
      "5\n",
      "[3, 4, 5, 7]\n",
      "---------\n",
      "6\n",
      "[3, 4, 5, 6]\n",
      "1\n",
      "[1, 3, 4, 5]\n",
      "15\n",
      "[1, 3, 4, 5]\n",
      "4\n",
      "[1, 3, 4, 4]\n",
      "2\n",
      "[1, 2, 3, 4]\n"
     ]
    }
   ],
   "source": [
    "k = [arr[0]]\n",
    "\n",
    "for i in arr[1:K]:\n",
    "    print(i)\n",
    "    k = form_new(k, i)\n",
    "    print(k)\n",
    "\n",
    "\n",
    "\n",
    "print('---------')\n",
    "for i in arr[K:]:\n",
    "    print(i)\n",
    "    k = get_new(k, i)\n",
    "    print(k)\n"
   ]
  },
  {
   "cell_type": "code",
   "execution_count": 199,
   "metadata": {},
   "outputs": [
    {
     "data": {
      "text/plain": [
       "[3, 7, 4, 5, 6, 1, 15, 4, 2]"
      ]
     },
     "execution_count": 199,
     "metadata": {},
     "output_type": "execute_result"
    }
   ],
   "source": [
    "arr"
   ]
  },
  {
   "cell_type": "markdown",
   "metadata": {},
   "source": [
    "Улучшить алгоритм можно обрабатывая последовательность \"батчами\", а именно когда приходят новые k элементов делаем слияние"
   ]
  },
  {
   "cell_type": "code",
   "execution_count": null,
   "metadata": {},
   "outputs": [],
   "source": []
  },
  {
   "cell_type": "markdown",
   "metadata": {},
   "source": [
    "## 5, строка по Z функции"
   ]
  },
  {
   "cell_type": "markdown",
   "metadata": {},
   "source": [
    "Найти лексикографически-минимальную строку, построенную по z-функции, в алфавите a-z.\n"
   ]
  },
  {
   "cell_type": "code",
   "execution_count": null,
   "metadata": {},
   "outputs": [],
   "source": []
  },
  {
   "cell_type": "code",
   "execution_count": null,
   "metadata": {},
   "outputs": [],
   "source": []
  },
  {
   "cell_type": "code",
   "execution_count": null,
   "metadata": {},
   "outputs": [],
   "source": []
  },
  {
   "cell_type": "markdown",
   "metadata": {},
   "source": [
    "## 7, сумма длин до остальных"
   ]
  },
  {
   "cell_type": "markdown",
   "metadata": {},
   "source": [
    "хз, тяжело"
   ]
  },
  {
   "cell_type": "code",
   "execution_count": null,
   "metadata": {},
   "outputs": [],
   "source": []
  },
  {
   "cell_type": "code",
   "execution_count": null,
   "metadata": {},
   "outputs": [],
   "source": []
  },
  {
   "cell_type": "code",
   "execution_count": null,
   "metadata": {},
   "outputs": [],
   "source": []
  },
  {
   "cell_type": "markdown",
   "metadata": {},
   "source": [
    "## 8, Обход дерева в порядке post-order"
   ]
  },
  {
   "cell_type": "code",
   "execution_count": null,
   "metadata": {},
   "outputs": [],
   "source": []
  },
  {
   "cell_type": "code",
   "execution_count": null,
   "metadata": {},
   "outputs": [],
   "source": []
  },
  {
   "cell_type": "code",
   "execution_count": null,
   "metadata": {},
   "outputs": [],
   "source": []
  }
 ],
 "metadata": {
  "kernelspec": {
   "display_name": "MLBase",
   "language": "python",
   "name": "python3"
  },
  "language_info": {
   "codemirror_mode": {
    "name": "ipython",
    "version": 3
   },
   "file_extension": ".py",
   "mimetype": "text/x-python",
   "name": "python",
   "nbconvert_exporter": "python",
   "pygments_lexer": "ipython3",
   "version": "3.11.8"
  }
 },
 "nbformat": 4,
 "nbformat_minor": 2
}
